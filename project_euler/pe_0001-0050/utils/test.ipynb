{
 "cells": [
  {
   "cell_type": "code",
   "execution_count": 1,
   "metadata": {},
   "outputs": [],
   "source": [
    "import numpy as np"
   ]
  },
  {
   "cell_type": "code",
   "execution_count": 4,
   "metadata": {},
   "outputs": [],
   "source": [
    "arr = np.array((np.arange(5, 1000, 6), np.arange(7, 1000, 6)))"
   ]
  },
  {
   "cell_type": "code",
   "execution_count": 6,
   "metadata": {},
   "outputs": [
    {
     "data": {
      "text/plain": [
       "array([  5,   7,  11,  13,  17,  19,  23,  25,  29,  31,  35,  37,  41,\n",
       "        43,  47,  49,  53,  55,  59,  61,  65,  67,  71,  73,  77,  79,\n",
       "        83,  85,  89,  91,  95,  97, 101, 103, 107, 109, 113, 115, 119,\n",
       "       121, 125, 127, 131, 133, 137, 139, 143, 145, 149, 151, 155, 157,\n",
       "       161, 163, 167, 169, 173, 175, 179, 181, 185, 187, 191, 193, 197,\n",
       "       199, 203, 205, 209, 211, 215, 217, 221, 223, 227, 229, 233, 235,\n",
       "       239, 241, 245, 247, 251, 253, 257, 259, 263, 265, 269, 271, 275,\n",
       "       277, 281, 283, 287, 289, 293, 295, 299, 301, 305, 307, 311, 313,\n",
       "       317, 319, 323, 325, 329, 331, 335, 337, 341, 343, 347, 349, 353,\n",
       "       355, 359, 361, 365, 367, 371, 373, 377, 379, 383, 385, 389, 391,\n",
       "       395, 397, 401, 403, 407, 409, 413, 415, 419, 421, 425, 427, 431,\n",
       "       433, 437, 439, 443, 445, 449, 451, 455, 457, 461, 463, 467, 469,\n",
       "       473, 475, 479, 481, 485, 487, 491, 493, 497, 499, 503, 505, 509,\n",
       "       511, 515, 517, 521, 523, 527, 529, 533, 535, 539, 541, 545, 547,\n",
       "       551, 553, 557, 559, 563, 565, 569, 571, 575, 577, 581, 583, 587,\n",
       "       589, 593, 595, 599, 601, 605, 607, 611, 613, 617, 619, 623, 625,\n",
       "       629, 631, 635, 637, 641, 643, 647, 649, 653, 655, 659, 661, 665,\n",
       "       667, 671, 673, 677, 679, 683, 685, 689, 691, 695, 697, 701, 703,\n",
       "       707, 709, 713, 715, 719, 721, 725, 727, 731, 733, 737, 739, 743,\n",
       "       745, 749, 751, 755, 757, 761, 763, 767, 769, 773, 775, 779, 781,\n",
       "       785, 787, 791, 793, 797, 799, 803, 805, 809, 811, 815, 817, 821,\n",
       "       823, 827, 829, 833, 835, 839, 841, 845, 847, 851, 853, 857, 859,\n",
       "       863, 865, 869, 871, 875, 877, 881, 883, 887, 889, 893, 895, 899,\n",
       "       901, 905, 907, 911, 913, 917, 919, 923, 925, 929, 931, 935, 937,\n",
       "       941, 943, 947, 949, 953, 955, 959, 961, 965, 967, 971, 973, 977,\n",
       "       979, 983, 985, 989, 991, 995, 997])"
      ]
     },
     "execution_count": 6,
     "metadata": {},
     "output_type": "execute_result"
    }
   ],
   "source": [
    "arr.T.flatten()"
   ]
  },
  {
   "cell_type": "code",
   "execution_count": 7,
   "metadata": {},
   "outputs": [
    {
     "data": {
      "text/plain": [
       "array([ 5,  7, 11, 13, 17, 19, 23, 25, 29, 31, 35, 37, 41, 43, 47, 49, 53,\n",
       "       55, 59, 61, 65, 67, 71, 73, 77, 79, 83, 85, 89, 91, 95, 97])"
      ]
     },
     "execution_count": 7,
     "metadata": {},
     "output_type": "execute_result"
    }
   ],
   "source": [
    "np.array((np.arange(5, 100, 6), np.arange(7, 100, 6))).T.flatten()"
   ]
  },
  {
   "cell_type": "code",
   "execution_count": 13,
   "metadata": {},
   "outputs": [
    {
     "name": "stderr",
     "output_type": "stream",
     "text": [
      "C:\\Users\\RoundPiano\\AppData\\Local\\Temp\\ipykernel_22200\\4179578642.py:4: VisibleDeprecationWarning: Creating an ndarray from ragged nested sequences (which is a list-or-tuple of lists-or-tuples-or ndarrays with different lengths or shapes) is deprecated. If you meant to do this, you must specify 'dtype=object' when creating the ndarray.\n",
      "  np.array((np.arange(5, n+1, 6), np.arange(7, n+1, 6))).T.flatten()\n"
     ]
    },
    {
     "data": {
      "text/plain": [
       "array([array([ 5, 11, 17, 23, 29, 35, 41]),\n",
       "       array([ 7, 13, 19, 25, 31, 37])], dtype=object)"
      ]
     },
     "execution_count": 13,
     "metadata": {},
     "output_type": "execute_result"
    }
   ],
   "source": [
    "n = 42\n",
    "if n % 5 == 0:\n",
    "    n = n-1\n",
    "np.array((np.arange(5, n+1, 6), np.arange(7, n+1, 6))).T.flatten()"
   ]
  },
  {
   "cell_type": "code",
   "execution_count": null,
   "metadata": {},
   "outputs": [],
   "source": []
  }
 ],
 "metadata": {
  "kernelspec": {
   "display_name": "Python 3.11.0 64-bit",
   "language": "python",
   "name": "python3"
  },
  "language_info": {
   "codemirror_mode": {
    "name": "ipython",
    "version": 3
   },
   "file_extension": ".py",
   "mimetype": "text/x-python",
   "name": "python",
   "nbconvert_exporter": "python",
   "pygments_lexer": "ipython3",
   "version": "3.11.0"
  },
  "orig_nbformat": 4,
  "vscode": {
   "interpreter": {
    "hash": "ef444dfdc0e63df5bd04a7609eb5b26a6822b46c2912f06cd32f28d87a91c7c4"
   }
  }
 },
 "nbformat": 4,
 "nbformat_minor": 2
}
