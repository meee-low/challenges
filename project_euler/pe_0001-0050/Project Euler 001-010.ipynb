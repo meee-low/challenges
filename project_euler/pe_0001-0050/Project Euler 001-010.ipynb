{
 "cells": [
  {
   "cell_type": "markdown",
   "id": "3a204ddf",
   "metadata": {},
   "source": [
    "# Project Euler\n",
    "________________"
   ]
  },
  {
   "cell_type": "markdown",
   "id": "1b6aa447",
   "metadata": {},
   "source": [
    "# Problem 1: Multiples of 3 or 5\n",
    "\n",
    "If we list all the natural numbers below 10 that are multiples of 3 or 5, we get 3, 5, 6 and 9. The sum of these multiples is 23.\n",
    "\n",
    "Find the sum of all the multiples of 3 or 5 below 1000."
   ]
  },
  {
   "cell_type": "code",
   "execution_count": 1,
   "id": "ac52e4c9",
   "metadata": {},
   "outputs": [],
   "source": [
    "import numpy as np"
   ]
  },
  {
   "cell_type": "code",
   "execution_count": 20,
   "id": "aeb5d685",
   "metadata": {
    "scrolled": true
   },
   "outputs": [
    {
     "data": {
      "text/plain": [
       "array([  1,   2,   3,   4,   5,   6,   7,   8,   9,  10,  11,  12,  13,\n",
       "        14,  15,  16,  17,  18,  19,  20,  21,  22,  23,  24,  25,  26,\n",
       "        27,  28,  29,  30,  31,  32,  33,  34,  35,  36,  37,  38,  39,\n",
       "        40,  41,  42,  43,  44,  45,  46,  47,  48,  49,  50,  51,  52,\n",
       "        53,  54,  55,  56,  57,  58,  59,  60,  61,  62,  63,  64,  65,\n",
       "        66,  67,  68,  69,  70,  71,  72,  73,  74,  75,  76,  77,  78,\n",
       "        79,  80,  81,  82,  83,  84,  85,  86,  87,  88,  89,  90,  91,\n",
       "        92,  93,  94,  95,  96,  97,  98,  99, 100, 101, 102, 103, 104,\n",
       "       105, 106, 107, 108, 109, 110, 111, 112, 113, 114, 115, 116, 117,\n",
       "       118, 119, 120, 121, 122, 123, 124, 125, 126, 127, 128, 129, 130,\n",
       "       131, 132, 133, 134, 135, 136, 137, 138, 139, 140, 141, 142, 143,\n",
       "       144, 145, 146, 147, 148, 149, 150, 151, 152, 153, 154, 155, 156,\n",
       "       157, 158, 159, 160, 161, 162, 163, 164, 165, 166, 167, 168, 169,\n",
       "       170, 171, 172, 173, 174, 175, 176, 177, 178, 179, 180, 181, 182,\n",
       "       183, 184, 185, 186, 187, 188, 189, 190, 191, 192, 193, 194, 195,\n",
       "       196, 197, 198, 199, 200, 201, 202, 203, 204, 205, 206, 207, 208,\n",
       "       209, 210, 211, 212, 213, 214, 215, 216, 217, 218, 219, 220, 221,\n",
       "       222, 223, 224, 225, 226, 227, 228, 229, 230, 231, 232, 233, 234,\n",
       "       235, 236, 237, 238, 239, 240, 241, 242, 243, 244, 245, 246, 247,\n",
       "       248, 249, 250, 251, 252, 253, 254, 255, 256, 257, 258, 259, 260,\n",
       "       261, 262, 263, 264, 265, 266, 267, 268, 269, 270, 271, 272, 273,\n",
       "       274, 275, 276, 277, 278, 279, 280, 281, 282, 283, 284, 285, 286,\n",
       "       287, 288, 289, 290, 291, 292, 293, 294, 295, 296, 297, 298, 299,\n",
       "       300, 301, 302, 303, 304, 305, 306, 307, 308, 309, 310, 311, 312,\n",
       "       313, 314, 315, 316, 317, 318, 319, 320, 321, 322, 323, 324, 325,\n",
       "       326, 327, 328, 329, 330, 331, 332, 333, 334, 335, 336, 337, 338,\n",
       "       339, 340, 341, 342, 343, 344, 345, 346, 347, 348, 349, 350, 351,\n",
       "       352, 353, 354, 355, 356, 357, 358, 359, 360, 361, 362, 363, 364,\n",
       "       365, 366, 367, 368, 369, 370, 371, 372, 373, 374, 375, 376, 377,\n",
       "       378, 379, 380, 381, 382, 383, 384, 385, 386, 387, 388, 389, 390,\n",
       "       391, 392, 393, 394, 395, 396, 397, 398, 399, 400, 401, 402, 403,\n",
       "       404, 405, 406, 407, 408, 409, 410, 411, 412, 413, 414, 415, 416,\n",
       "       417, 418, 419, 420, 421, 422, 423, 424, 425, 426, 427, 428, 429,\n",
       "       430, 431, 432, 433, 434, 435, 436, 437, 438, 439, 440, 441, 442,\n",
       "       443, 444, 445, 446, 447, 448, 449, 450, 451, 452, 453, 454, 455,\n",
       "       456, 457, 458, 459, 460, 461, 462, 463, 464, 465, 466, 467, 468,\n",
       "       469, 470, 471, 472, 473, 474, 475, 476, 477, 478, 479, 480, 481,\n",
       "       482, 483, 484, 485, 486, 487, 488, 489, 490, 491, 492, 493, 494,\n",
       "       495, 496, 497, 498, 499, 500, 501, 502, 503, 504, 505, 506, 507,\n",
       "       508, 509, 510, 511, 512, 513, 514, 515, 516, 517, 518, 519, 520,\n",
       "       521, 522, 523, 524, 525, 526, 527, 528, 529, 530, 531, 532, 533,\n",
       "       534, 535, 536, 537, 538, 539, 540, 541, 542, 543, 544, 545, 546,\n",
       "       547, 548, 549, 550, 551, 552, 553, 554, 555, 556, 557, 558, 559,\n",
       "       560, 561, 562, 563, 564, 565, 566, 567, 568, 569, 570, 571, 572,\n",
       "       573, 574, 575, 576, 577, 578, 579, 580, 581, 582, 583, 584, 585,\n",
       "       586, 587, 588, 589, 590, 591, 592, 593, 594, 595, 596, 597, 598,\n",
       "       599, 600, 601, 602, 603, 604, 605, 606, 607, 608, 609, 610, 611,\n",
       "       612, 613, 614, 615, 616, 617, 618, 619, 620, 621, 622, 623, 624,\n",
       "       625, 626, 627, 628, 629, 630, 631, 632, 633, 634, 635, 636, 637,\n",
       "       638, 639, 640, 641, 642, 643, 644, 645, 646, 647, 648, 649, 650,\n",
       "       651, 652, 653, 654, 655, 656, 657, 658, 659, 660, 661, 662, 663,\n",
       "       664, 665, 666, 667, 668, 669, 670, 671, 672, 673, 674, 675, 676,\n",
       "       677, 678, 679, 680, 681, 682, 683, 684, 685, 686, 687, 688, 689,\n",
       "       690, 691, 692, 693, 694, 695, 696, 697, 698, 699, 700, 701, 702,\n",
       "       703, 704, 705, 706, 707, 708, 709, 710, 711, 712, 713, 714, 715,\n",
       "       716, 717, 718, 719, 720, 721, 722, 723, 724, 725, 726, 727, 728,\n",
       "       729, 730, 731, 732, 733, 734, 735, 736, 737, 738, 739, 740, 741,\n",
       "       742, 743, 744, 745, 746, 747, 748, 749, 750, 751, 752, 753, 754,\n",
       "       755, 756, 757, 758, 759, 760, 761, 762, 763, 764, 765, 766, 767,\n",
       "       768, 769, 770, 771, 772, 773, 774, 775, 776, 777, 778, 779, 780,\n",
       "       781, 782, 783, 784, 785, 786, 787, 788, 789, 790, 791, 792, 793,\n",
       "       794, 795, 796, 797, 798, 799, 800, 801, 802, 803, 804, 805, 806,\n",
       "       807, 808, 809, 810, 811, 812, 813, 814, 815, 816, 817, 818, 819,\n",
       "       820, 821, 822, 823, 824, 825, 826, 827, 828, 829, 830, 831, 832,\n",
       "       833, 834, 835, 836, 837, 838, 839, 840, 841, 842, 843, 844, 845,\n",
       "       846, 847, 848, 849, 850, 851, 852, 853, 854, 855, 856, 857, 858,\n",
       "       859, 860, 861, 862, 863, 864, 865, 866, 867, 868, 869, 870, 871,\n",
       "       872, 873, 874, 875, 876, 877, 878, 879, 880, 881, 882, 883, 884,\n",
       "       885, 886, 887, 888, 889, 890, 891, 892, 893, 894, 895, 896, 897,\n",
       "       898, 899, 900, 901, 902, 903, 904, 905, 906, 907, 908, 909, 910,\n",
       "       911, 912, 913, 914, 915, 916, 917, 918, 919, 920, 921, 922, 923,\n",
       "       924, 925, 926, 927, 928, 929, 930, 931, 932, 933, 934, 935, 936,\n",
       "       937, 938, 939, 940, 941, 942, 943, 944, 945, 946, 947, 948, 949,\n",
       "       950, 951, 952, 953, 954, 955, 956, 957, 958, 959, 960, 961, 962,\n",
       "       963, 964, 965, 966, 967, 968, 969, 970, 971, 972, 973, 974, 975,\n",
       "       976, 977, 978, 979, 980, 981, 982, 983, 984, 985, 986, 987, 988,\n",
       "       989, 990, 991, 992, 993, 994, 995, 996, 997, 998, 999])"
      ]
     },
     "execution_count": 20,
     "metadata": {},
     "output_type": "execute_result"
    }
   ],
   "source": [
    "arr = np.arange(999) + 1\n",
    "arr"
   ]
  },
  {
   "cell_type": "code",
   "execution_count": 22,
   "id": "8e94c3ea",
   "metadata": {
    "scrolled": true
   },
   "outputs": [
    {
     "data": {
      "text/plain": [
       "array([False, False,  True, False,  True,  True, False, False,  True,\n",
       "        True, False,  True, False, False,  True, False, False,  True,\n",
       "       False,  True,  True, False, False,  True,  True, False,  True,\n",
       "       False, False,  True, False, False,  True, False,  True,  True,\n",
       "       False, False,  True,  True, False,  True, False, False,  True,\n",
       "       False, False,  True, False,  True,  True, False, False,  True,\n",
       "        True, False,  True, False, False,  True, False, False,  True,\n",
       "       False,  True,  True, False, False,  True,  True, False,  True,\n",
       "       False, False,  True, False, False,  True, False,  True,  True,\n",
       "       False, False,  True,  True, False,  True, False, False,  True,\n",
       "       False, False,  True, False,  True,  True, False, False,  True,\n",
       "        True, False,  True, False, False,  True, False, False,  True,\n",
       "       False,  True,  True, False, False,  True,  True, False,  True,\n",
       "       False, False,  True, False, False,  True, False,  True,  True,\n",
       "       False, False,  True,  True, False,  True, False, False,  True,\n",
       "       False, False,  True, False,  True,  True, False, False,  True,\n",
       "        True, False,  True, False, False,  True, False, False,  True,\n",
       "       False,  True,  True, False, False,  True,  True, False,  True,\n",
       "       False, False,  True, False, False,  True, False,  True,  True,\n",
       "       False, False,  True,  True, False,  True, False, False,  True,\n",
       "       False, False,  True, False,  True,  True, False, False,  True,\n",
       "        True, False,  True, False, False,  True, False, False,  True,\n",
       "       False,  True,  True, False, False,  True,  True, False,  True,\n",
       "       False, False,  True, False, False,  True, False,  True,  True,\n",
       "       False, False,  True,  True, False,  True, False, False,  True,\n",
       "       False, False,  True, False,  True,  True, False, False,  True,\n",
       "        True, False,  True, False, False,  True, False, False,  True,\n",
       "       False,  True,  True, False, False,  True,  True, False,  True,\n",
       "       False, False,  True, False, False,  True, False,  True,  True,\n",
       "       False, False,  True,  True, False,  True, False, False,  True,\n",
       "       False, False,  True, False,  True,  True, False, False,  True,\n",
       "        True, False,  True, False, False,  True, False, False,  True,\n",
       "       False,  True,  True, False, False,  True,  True, False,  True,\n",
       "       False, False,  True, False, False,  True, False,  True,  True,\n",
       "       False, False,  True,  True, False,  True, False, False,  True,\n",
       "       False, False,  True, False,  True,  True, False, False,  True,\n",
       "        True, False,  True, False, False,  True, False, False,  True,\n",
       "       False,  True,  True, False, False,  True,  True, False,  True,\n",
       "       False, False,  True, False, False,  True, False,  True,  True,\n",
       "       False, False,  True,  True, False,  True, False, False,  True,\n",
       "       False, False,  True, False,  True,  True, False, False,  True,\n",
       "        True, False,  True, False, False,  True, False, False,  True,\n",
       "       False,  True,  True, False, False,  True,  True, False,  True,\n",
       "       False, False,  True, False, False,  True, False,  True,  True,\n",
       "       False, False,  True,  True, False,  True, False, False,  True,\n",
       "       False, False,  True, False,  True,  True, False, False,  True,\n",
       "        True, False,  True, False, False,  True, False, False,  True,\n",
       "       False,  True,  True, False, False,  True,  True, False,  True,\n",
       "       False, False,  True, False, False,  True, False,  True,  True,\n",
       "       False, False,  True,  True, False,  True, False, False,  True,\n",
       "       False, False,  True, False,  True,  True, False, False,  True,\n",
       "        True, False,  True, False, False,  True, False, False,  True,\n",
       "       False,  True,  True, False, False,  True,  True, False,  True,\n",
       "       False, False,  True, False, False,  True, False,  True,  True,\n",
       "       False, False,  True,  True, False,  True, False, False,  True,\n",
       "       False, False,  True, False,  True,  True, False, False,  True,\n",
       "        True, False,  True, False, False,  True, False, False,  True,\n",
       "       False,  True,  True, False, False,  True,  True, False,  True,\n",
       "       False, False,  True, False, False,  True, False,  True,  True,\n",
       "       False, False,  True,  True, False,  True, False, False,  True,\n",
       "       False, False,  True, False,  True,  True, False, False,  True,\n",
       "        True, False,  True, False, False,  True, False, False,  True,\n",
       "       False,  True,  True, False, False,  True,  True, False,  True,\n",
       "       False, False,  True, False, False,  True, False,  True,  True,\n",
       "       False, False,  True,  True, False,  True, False, False,  True,\n",
       "       False, False,  True, False,  True,  True, False, False,  True,\n",
       "        True, False,  True, False, False,  True, False, False,  True,\n",
       "       False,  True,  True, False, False,  True,  True, False,  True,\n",
       "       False, False,  True, False, False,  True, False,  True,  True,\n",
       "       False, False,  True,  True, False,  True, False, False,  True,\n",
       "       False, False,  True, False,  True,  True, False, False,  True,\n",
       "        True, False,  True, False, False,  True, False, False,  True,\n",
       "       False,  True,  True, False, False,  True,  True, False,  True,\n",
       "       False, False,  True, False, False,  True, False,  True,  True,\n",
       "       False, False,  True,  True, False,  True, False, False,  True,\n",
       "       False, False,  True, False,  True,  True, False, False,  True,\n",
       "        True, False,  True, False, False,  True, False, False,  True,\n",
       "       False,  True,  True, False, False,  True,  True, False,  True,\n",
       "       False, False,  True, False, False,  True, False,  True,  True,\n",
       "       False, False,  True,  True, False,  True, False, False,  True,\n",
       "       False, False,  True, False,  True,  True, False, False,  True,\n",
       "        True, False,  True, False, False,  True, False, False,  True,\n",
       "       False,  True,  True, False, False,  True,  True, False,  True,\n",
       "       False, False,  True, False, False,  True, False,  True,  True,\n",
       "       False, False,  True,  True, False,  True, False, False,  True,\n",
       "       False, False,  True, False,  True,  True, False, False,  True,\n",
       "        True, False,  True, False, False,  True, False, False,  True,\n",
       "       False,  True,  True, False, False,  True,  True, False,  True,\n",
       "       False, False,  True, False, False,  True, False,  True,  True,\n",
       "       False, False,  True,  True, False,  True, False, False,  True,\n",
       "       False, False,  True, False,  True,  True, False, False,  True,\n",
       "        True, False,  True, False, False,  True, False, False,  True,\n",
       "       False,  True,  True, False, False,  True,  True, False,  True,\n",
       "       False, False,  True, False, False,  True, False,  True,  True,\n",
       "       False, False,  True,  True, False,  True, False, False,  True,\n",
       "       False, False,  True, False,  True,  True, False, False,  True,\n",
       "        True, False,  True, False, False,  True, False, False,  True,\n",
       "       False,  True,  True, False, False,  True,  True, False,  True,\n",
       "       False, False,  True, False, False,  True, False,  True,  True,\n",
       "       False, False,  True,  True, False,  True, False, False,  True,\n",
       "       False, False,  True, False,  True,  True, False, False,  True,\n",
       "        True, False,  True, False, False,  True, False, False,  True,\n",
       "       False,  True,  True, False, False,  True,  True, False,  True,\n",
       "       False, False,  True, False, False,  True, False,  True,  True,\n",
       "       False, False,  True,  True, False,  True, False, False,  True,\n",
       "       False, False,  True, False,  True,  True, False, False,  True,\n",
       "        True, False,  True, False, False,  True, False, False,  True,\n",
       "       False,  True,  True, False, False,  True,  True, False,  True,\n",
       "       False, False,  True, False, False,  True, False,  True,  True,\n",
       "       False, False,  True,  True, False,  True, False, False,  True,\n",
       "       False, False,  True, False,  True,  True, False, False,  True])"
      ]
     },
     "execution_count": 22,
     "metadata": {},
     "output_type": "execute_result"
    }
   ],
   "source": [
    "bool_arr = np.logical_or(arr % 3 == 0, arr % 5 == 0)\n",
    "bool_arr"
   ]
  },
  {
   "cell_type": "code",
   "execution_count": 23,
   "id": "08ee1497",
   "metadata": {},
   "outputs": [
    {
     "data": {
      "text/plain": [
       "233168"
      ]
     },
     "execution_count": 23,
     "metadata": {},
     "output_type": "execute_result"
    }
   ],
   "source": [
    "bool_arr @ arr"
   ]
  },
  {
   "cell_type": "markdown",
   "id": "ce17a185",
   "metadata": {},
   "source": [
    "## **Answer:** \n",
    "233168"
   ]
  },
  {
   "cell_type": "markdown",
   "id": "f2671b47",
   "metadata": {},
   "source": [
    "### Alternative:\n",
    "\n",
    "There's a repeating pattern every 15 numbers:"
   ]
  },
  {
   "cell_type": "code",
   "execution_count": 25,
   "id": "a00d3078",
   "metadata": {},
   "outputs": [
    {
     "data": {
      "text/plain": [
       "(array([False, False,  True, False,  True,  True, False, False,  True,\n",
       "         True, False,  True, False, False,  True]),\n",
       " array([False, False,  True, False,  True,  True, False, False,  True,\n",
       "         True, False,  True, False, False,  True]))"
      ]
     },
     "execution_count": 25,
     "metadata": {},
     "output_type": "execute_result"
    }
   ],
   "source": [
    "bool_arr[:15], bool_arr[15:15+15]"
   ]
  },
  {
   "cell_type": "code",
   "execution_count": 27,
   "id": "850b6e35",
   "metadata": {},
   "outputs": [
    {
     "data": {
      "text/plain": [
       "True"
      ]
     },
     "execution_count": 27,
     "metadata": {},
     "output_type": "execute_result"
    }
   ],
   "source": [
    "all(bool_arr[:15] == bool_arr[15:15+15])"
   ]
  },
  {
   "cell_type": "code",
   "execution_count": 28,
   "id": "8ac25bd8",
   "metadata": {},
   "outputs": [
    {
     "data": {
      "text/plain": [
       "60"
      ]
     },
     "execution_count": 28,
     "metadata": {},
     "output_type": "execute_result"
    }
   ],
   "source": [
    "bool_arr[:15] @ arr[:15]"
   ]
  },
  {
   "cell_type": "code",
   "execution_count": 31,
   "id": "b85c0c2c",
   "metadata": {},
   "outputs": [],
   "source": [
    "def integer_division(n, d):\n",
    "    return n // d , n % d"
   ]
  },
  {
   "cell_type": "code",
   "execution_count": 32,
   "id": "5b835e66",
   "metadata": {},
   "outputs": [
    {
     "data": {
      "text/plain": [
       "(66, 9)"
      ]
     },
     "execution_count": 32,
     "metadata": {},
     "output_type": "execute_result"
    }
   ],
   "source": [
    "integer_division(999, 15)"
   ]
  },
  {
   "cell_type": "code",
   "execution_count": 35,
   "id": "034202bb",
   "metadata": {},
   "outputs": [],
   "source": [
    "def triangular_number(n):\n",
    "    return (n * (n-1)) // 2"
   ]
  },
  {
   "cell_type": "code",
   "execution_count": 36,
   "id": "9e6ad503",
   "metadata": {},
   "outputs": [
    {
     "data": {
      "text/plain": [
       "1934483"
      ]
     },
     "execution_count": 36,
     "metadata": {},
     "output_type": "execute_result"
    }
   ],
   "source": [
    "60 * triangular_number(66) * 15 + bool_arr[-9:] @ arr[-9:]"
   ]
  },
  {
   "cell_type": "markdown",
   "id": "50a0ae4f",
   "metadata": {},
   "source": [
    "# Problem 2: Even Fibonacci numbers\n",
    "\n",
    "Each new term in the Fibonacci sequence is generated by adding the previous two terms. By starting with 1 and 2, the first 10 terms will be:\n",
    "\n",
    "> 1, 2, 3, 5, 8, 13, 21, 34, 55, 89, ...\n",
    "\n",
    "By considering the terms in the Fibonacci sequence whose values do not exceed four million, find the sum of the even-valued terms."
   ]
  },
  {
   "cell_type": "code",
   "execution_count": 39,
   "id": "77e48498",
   "metadata": {},
   "outputs": [],
   "source": [
    "import functools"
   ]
  },
  {
   "cell_type": "code",
   "execution_count": 45,
   "id": "bf7462db",
   "metadata": {},
   "outputs": [
    {
     "name": "stdout",
     "output_type": "stream",
     "text": [
      "1\n",
      "2\n",
      "3\n",
      "5\n",
      "8\n",
      "13\n",
      "21\n",
      "34\n",
      "55\n"
     ]
    }
   ],
   "source": [
    "@functools.lru_cache(maxsize=5)\n",
    "def fibonacci(n):\n",
    "    # Returns the n-th fibonacci number.\n",
    "    if n < 1:\n",
    "        raise ValueError(\"Fibonacci is a sequence. No negative indexes allowed.\")\n",
    "    if n == 1:\n",
    "        return 1\n",
    "    if n == 2:\n",
    "        return 2\n",
    "    return fibonacci(n-2) + fibonacci(n-1)\n",
    "\n",
    "for i in range(1, 10):\n",
    "    print(fibonacci(i))"
   ]
  },
  {
   "cell_type": "code",
   "execution_count": 56,
   "id": "c32cc8a1",
   "metadata": {},
   "outputs": [
    {
     "data": {
      "text/plain": [
       "array([          1,           2,           3,           5,           8,\n",
       "                13,          21,          34,          55,          89,\n",
       "               144,         233,         377,         610,         987,\n",
       "              1597,        2584,        4181,        6765,       10946,\n",
       "             17711,       28657,       46368,       75025,      121393,\n",
       "            196418,      317811,      514229,      832040,     1346269,\n",
       "           2178309,     3524578,     5702887,     9227465,    14930352,\n",
       "          24157817,    39088169,    63245986,   102334155,   165580141,\n",
       "         267914296,   433494437,   701408733,  1134903170,  1836311903,\n",
       "        2971215073,  4807526976,  7778742049, 12586269025, 20365011074])"
      ]
     },
     "execution_count": 56,
     "metadata": {},
     "output_type": "execute_result"
    }
   ],
   "source": [
    "fib_arr = np.array(list(map(fibonacci, np.arange(1, 50+1))))\n",
    "fib_arr"
   ]
  },
  {
   "cell_type": "code",
   "execution_count": 62,
   "id": "27047806",
   "metadata": {},
   "outputs": [
    {
     "data": {
      "text/plain": [
       "array([False,  True, False, False,  True, False, False,  True, False,\n",
       "       False,  True, False, False,  True, False, False,  True, False,\n",
       "       False,  True, False, False,  True, False, False,  True, False,\n",
       "       False,  True, False, False,  True, False, False, False, False,\n",
       "       False, False, False, False, False, False, False, False, False,\n",
       "       False, False, False, False, False])"
      ]
     },
     "execution_count": 62,
     "metadata": {},
     "output_type": "execute_result"
    }
   ],
   "source": [
    "bool_arr = np.logical_and(fib_arr < 4E6, fib_arr % 2 == 0)\n",
    "bool_arr"
   ]
  },
  {
   "cell_type": "code",
   "execution_count": 63,
   "id": "8aa64c7f",
   "metadata": {},
   "outputs": [
    {
     "data": {
      "text/plain": [
       "4613732"
      ]
     },
     "execution_count": 63,
     "metadata": {},
     "output_type": "execute_result"
    }
   ],
   "source": [
    "bool_arr @ fib_arr"
   ]
  },
  {
   "cell_type": "markdown",
   "id": "ce7eca46",
   "metadata": {},
   "source": [
    "### Answer:\n",
    "4613732"
   ]
  },
  {
   "cell_type": "markdown",
   "id": "9f1d3ef5",
   "metadata": {},
   "source": [
    "# Problem 3: Largest prime factor\n",
    "\n",
    "The prime factors of 13195 are 5, 7, 13 and 29.\n",
    "\n",
    "What is the largest prime factor of the number 600851475143 ?"
   ]
  },
  {
   "cell_type": "code",
   "execution_count": 69,
   "id": "2ee4d3e7",
   "metadata": {},
   "outputs": [],
   "source": [
    "from numba import njit"
   ]
  },
  {
   "cell_type": "code",
   "execution_count": 76,
   "id": "12341e34",
   "metadata": {},
   "outputs": [
    {
     "data": {
      "text/plain": [
       "775146.0992245268"
      ]
     },
     "execution_count": 76,
     "metadata": {},
     "output_type": "execute_result"
    }
   ],
   "source": [
    "600851475143 ** 0.5"
   ]
  },
  {
   "cell_type": "code",
   "execution_count": 482,
   "id": "0dc13b0b",
   "metadata": {},
   "outputs": [],
   "source": [
    "@njit\n",
    "def prime_search(n):\n",
    "    \"\"\"Returns a numpy array of primes up to n.\"\"\"\n",
    "    sieve = np.arange(3, n+1, 2)\n",
    "    len_sieve = len(sieve)\n",
    "    primes = np.zeros(len_sieve)\n",
    "    primes[0] = 2\n",
    "    j = 1\n",
    "    # limit = (len_sieve ** 0.5) // 2\n",
    "    limit = len_sieve\n",
    "    for i in range(len_sieve):\n",
    "        curr_numb = sieve[i]\n",
    "        if curr_numb != 0:\n",
    "            if i < limit:\n",
    "                sieve[i::curr_numb] *= 0\n",
    "            primes[j] = curr_numb\n",
    "            j += 1           \n",
    "    return primes[primes!=0]"
   ]
  },
  {
   "cell_type": "code",
   "execution_count": 483,
   "id": "15a51bb4",
   "metadata": {},
   "outputs": [
    {
     "data": {
      "text/plain": [
       "array([ 2.,  3.,  5.,  7., 11., 13., 17., 19., 23., 29., 31., 37., 41.,\n",
       "       43., 47., 53., 59., 61., 67., 71., 73., 79., 83., 89., 97.])"
      ]
     },
     "execution_count": 483,
     "metadata": {},
     "output_type": "execute_result"
    }
   ],
   "source": [
    "prime_search(100)"
   ]
  },
  {
   "cell_type": "code",
   "execution_count": 247,
   "id": "b0b38eb2",
   "metadata": {},
   "outputs": [],
   "source": [
    "@njit\n",
    "def factor(n):\n",
    "    limit = int(n ** 0.5 * 2)\n",
    "    primes = prime_search(limit)\n",
    "    factors = np.zeros(limit)\n",
    "    j = 0\n",
    "    for p in primes:\n",
    "        while n % p == 0:\n",
    "            factors[j] = p\n",
    "            j += 1\n",
    "            n /= p\n",
    "    return factors[factors!=0]\n",
    "\n",
    "@njit\n",
    "def factor_v2(n):\n",
    "    limit = int(n ** 0.5 * 2)\n",
    "    primes = prime_search(limit)\n",
    "    \n",
    "    factors = primes[n % primes == 0]\n",
    "\n",
    "    return factors"
   ]
  },
  {
   "cell_type": "code",
   "execution_count": 250,
   "id": "baae98c9",
   "metadata": {},
   "outputs": [
    {
     "name": "stdout",
     "output_type": "stream",
     "text": [
      "24.8 µs ± 2.43 µs per loop (mean ± std. dev. of 7 runs, 10,000 loops each)\n",
      "32.2 µs ± 2.57 µs per loop (mean ± std. dev. of 7 runs, 10,000 loops each)\n"
     ]
    }
   ],
   "source": [
    "%timeit factor(71*73*34)\n",
    "%timeit factor_v2(71*73*34)"
   ]
  },
  {
   "cell_type": "code",
   "execution_count": 251,
   "id": "f738beb3",
   "metadata": {},
   "outputs": [
    {
     "name": "stdout",
     "output_type": "stream",
     "text": [
      "67.3 ms ± 3.03 ms per loop (mean ± std. dev. of 7 runs, 10 loops each)\n",
      "71.6 ms ± 7.99 ms per loop (mean ± std. dev. of 7 runs, 10 loops each)\n"
     ]
    }
   ],
   "source": [
    "%timeit factor(600851475143)\n",
    "%timeit factor_v2(600851475143)"
   ]
  },
  {
   "cell_type": "code",
   "execution_count": 253,
   "id": "09b18090",
   "metadata": {},
   "outputs": [
    {
     "data": {
      "text/plain": [
       "array([  71.,  839., 1471., 6857.])"
      ]
     },
     "execution_count": 253,
     "metadata": {},
     "output_type": "execute_result"
    }
   ],
   "source": [
    "factor_v2(600851475143)"
   ]
  },
  {
   "cell_type": "markdown",
   "id": "95f1e50e",
   "metadata": {},
   "source": [
    "### Answer:\n",
    "6857"
   ]
  },
  {
   "cell_type": "markdown",
   "id": "9e96a0fd",
   "metadata": {},
   "source": [
    "# Problem 4: Largest palindrome product\n",
    "\n",
    "A palindromic number reads the same both ways. The largest palindrome made from the product of two 2-digit numbers is 9009 = 91 × 99.\n",
    "\n",
    "Find the largest palindrome made from the product of two 3-digit numbers."
   ]
  },
  {
   "cell_type": "code",
   "execution_count": 279,
   "id": "8d743794",
   "metadata": {},
   "outputs": [],
   "source": [
    "import math"
   ]
  },
  {
   "cell_type": "code",
   "execution_count": 278,
   "id": "6130510b",
   "metadata": {},
   "outputs": [
    {
     "name": "stdout",
     "output_type": "stream",
     "text": [
      "[1000000  100000   10000    1000     100      10       1]\n"
     ]
    },
    {
     "data": {
      "text/plain": [
       "array([1, 2, 3, 4, 5, 6])"
      ]
     },
     "execution_count": 278,
     "metadata": {},
     "output_type": "execute_result"
    }
   ],
   "source": [
    "powers = 10 ** np.arange(6, -1, -1); print(powers)\n",
    "(123456 % powers[:-1]) // powers[1:]"
   ]
  },
  {
   "cell_type": "code",
   "execution_count": 417,
   "id": "e30a16c2",
   "metadata": {},
   "outputs": [],
   "source": [
    "def split_number(n:int) -> np.array:\n",
    "    \"\"\"\n",
    "    123456 -> np.array([1, 2, 3, 4, 5, 6])\n",
    "    \"\"\"\n",
    "    if n < 0:\n",
    "        raise ValueError(\"Can't split negative numbers.\")\n",
    "    if n != int(n):\n",
    "        raise TypeError(\"Can't split floats.\")\n",
    "        \n",
    "    if n in [0, 1]:\n",
    "        return np.array([n])\n",
    "    \n",
    "    # number_of_digits = math.ceil(math.log(n, 10)) # <-- probably good to remove for faster speed\n",
    "    number_of_digits = len(str(n))\n",
    "    powers = 10 ** np.arange(number_of_digits, -1, -1) # (10^n, 10^(n-1), 10^(n-2), ..., 10, 1)\n",
    "    # % cuts the front part, // cuts the end part. That leaves only the digit we want in each position\n",
    "    return (n % powers[:-1]) // powers[1:]\n",
    "\n",
    "def is_palindrome(n:int) -> bool:\n",
    "    arr = split_number(n)\n",
    "    # if it's the same reversed as it is normally, it's palindrome.\n",
    "    return all(arr == arr[::-1])"
   ]
  },
  {
   "cell_type": "code",
   "execution_count": 418,
   "id": "31e97aaf",
   "metadata": {},
   "outputs": [
    {
     "data": {
      "text/plain": [
       "array([9, 9, 8, 0, 0, 1])"
      ]
     },
     "execution_count": 418,
     "metadata": {},
     "output_type": "execute_result"
    }
   ],
   "source": [
    "split_number(999*999)"
   ]
  },
  {
   "cell_type": "code",
   "execution_count": 419,
   "id": "08a45ddc",
   "metadata": {},
   "outputs": [
    {
     "data": {
      "text/plain": [
       "True"
      ]
     },
     "execution_count": 419,
     "metadata": {},
     "output_type": "execute_result"
    }
   ],
   "source": [
    "is_palindrome(9009)"
   ]
  },
  {
   "cell_type": "code",
   "execution_count": 423,
   "id": "cb30d77a",
   "metadata": {},
   "outputs": [
    {
     "name": "stdout",
     "output_type": "stream",
     "text": [
      "906609\n"
     ]
    }
   ],
   "source": [
    "%timeit\n",
    "result = 0\n",
    "\n",
    "for i in range(999, 0, -1):\n",
    "    if i * i < result:\n",
    "        break\n",
    "    for j in range(i, 0, -1):\n",
    "        if is_palindrome(prod := i*j):\n",
    "            # print(f\"{i}*{j} = {prod}\")\n",
    "            if result < prod:\n",
    "                result = prod\n",
    "            break\n",
    "\n",
    "print(result)"
   ]
  },
  {
   "cell_type": "markdown",
   "id": "f77b02f7",
   "metadata": {},
   "source": [
    "### Answer:\n",
    "906.609"
   ]
  },
  {
   "cell_type": "markdown",
   "id": "d09d1745",
   "metadata": {},
   "source": [
    "# Problem 5: Smallest multiple\n",
    "\n",
    "2520 is the smallest number that can be divided by each of the numbers from 1 to 10 without any remainder.\n",
    "\n",
    "What is the smallest positive number that is evenly divisible by all of the numbers from 1 to 20?"
   ]
  },
  {
   "cell_type": "code",
   "execution_count": 394,
   "id": "90180094",
   "metadata": {},
   "outputs": [
    {
     "name": "stdout",
     "output_type": "stream",
     "text": [
      "n = 10\n",
      "[2. 3. 5. 7.]\n",
      "[3. 2. 1. 1.]\n",
      "[8. 9. 5. 7.]\n",
      "===\n",
      "n = 20\n",
      "[ 2.  3.  5.  7. 11. 13. 17. 19.]\n",
      "[4. 2. 1. 1. 1. 1. 1. 1.]\n",
      "[16.  9.  5.  7. 11. 13. 17. 19.]\n"
     ]
    }
   ],
   "source": [
    "n = 10\n",
    "print(f\"n = {n}\")\n",
    "primes_under_n = prime_search(n)\n",
    "print(primes_under_n)\n",
    "powers = np.log(n) // np.log(primes_under_n)\n",
    "print(powers)\n",
    "max_pure_powers = primes_under_n ** powers\n",
    "print(max_pure_powers)\n",
    "\n",
    "print(\"===\")\n",
    "n = 20\n",
    "print(f\"n = {n}\")\n",
    "primes_under_n = prime_search(n)\n",
    "print(primes_under_n)\n",
    "powers = np.log(n) // np.log(primes_under_n)\n",
    "print(powers)\n",
    "max_pure_powers = primes_under_n ** powers\n",
    "print(max_pure_powers)"
   ]
  },
  {
   "cell_type": "code",
   "execution_count": 389,
   "id": "341b8640",
   "metadata": {},
   "outputs": [],
   "source": [
    "def smallest_multiple_of_all_under_n(n):\n",
    "    primes_under_n = prime_search(n)\n",
    "    powers = np.log(n) // np.log(primes)\n",
    "    max_pure_powers = primes ** powers\n",
    "    return max_pure_powers.prod()"
   ]
  },
  {
   "cell_type": "code",
   "execution_count": 390,
   "id": "c12ec397",
   "metadata": {},
   "outputs": [
    {
     "data": {
      "text/plain": [
       "232792560.0"
      ]
     },
     "execution_count": 390,
     "metadata": {},
     "output_type": "execute_result"
    }
   ],
   "source": [
    "smallest_multiple_of_all_under_n(20)"
   ]
  },
  {
   "cell_type": "markdown",
   "id": "b0ec4292",
   "metadata": {},
   "source": [
    "### Answer:\n",
    "232.792.560"
   ]
  },
  {
   "cell_type": "markdown",
   "id": "e4161489",
   "metadata": {},
   "source": [
    "# Problem 6: Sum square difference\n",
    "\n",
    "The sum of the squares of the first ten natural numbers is,\n",
    "\n",
    "$$1^2 + 2^2+ \\dots + 10^2 = 385$$\n",
    "\n",
    "The square of the sum of the first ten natural numbers is,\n",
    "\n",
    "$$(1 + 2+ \\dots + 10)^2 = 3025$$\n",
    "\n",
    "Hence the difference between the sum of the squares of the first ten natural numbers and the square of the sum is $ 3025 - 385 = 2640$ .\n",
    "\n",
    "Find the difference between the sum of the squares of the first one hundred natural numbers and the square of the sum."
   ]
  },
  {
   "cell_type": "code",
   "execution_count": 396,
   "id": "2aab1333",
   "metadata": {},
   "outputs": [
    {
     "data": {
      "text/plain": [
       "array([  1,   2,   3,   4,   5,   6,   7,   8,   9,  10,  11,  12,  13,\n",
       "        14,  15,  16,  17,  18,  19,  20,  21,  22,  23,  24,  25,  26,\n",
       "        27,  28,  29,  30,  31,  32,  33,  34,  35,  36,  37,  38,  39,\n",
       "        40,  41,  42,  43,  44,  45,  46,  47,  48,  49,  50,  51,  52,\n",
       "        53,  54,  55,  56,  57,  58,  59,  60,  61,  62,  63,  64,  65,\n",
       "        66,  67,  68,  69,  70,  71,  72,  73,  74,  75,  76,  77,  78,\n",
       "        79,  80,  81,  82,  83,  84,  85,  86,  87,  88,  89,  90,  91,\n",
       "        92,  93,  94,  95,  96,  97,  98,  99, 100])"
      ]
     },
     "execution_count": 396,
     "metadata": {},
     "output_type": "execute_result"
    }
   ],
   "source": [
    "first_100_numbers = np.arange(1, 100+1)\n",
    "first_100_numbers"
   ]
  },
  {
   "cell_type": "code",
   "execution_count": 399,
   "id": "4a4d3c81",
   "metadata": {},
   "outputs": [
    {
     "data": {
      "text/plain": [
       "array([    1,     4,     9,    16,    25,    36,    49,    64,    81,\n",
       "         100,   121,   144,   169,   196,   225,   256,   289,   324,\n",
       "         361,   400,   441,   484,   529,   576,   625,   676,   729,\n",
       "         784,   841,   900,   961,  1024,  1089,  1156,  1225,  1296,\n",
       "        1369,  1444,  1521,  1600,  1681,  1764,  1849,  1936,  2025,\n",
       "        2116,  2209,  2304,  2401,  2500,  2601,  2704,  2809,  2916,\n",
       "        3025,  3136,  3249,  3364,  3481,  3600,  3721,  3844,  3969,\n",
       "        4096,  4225,  4356,  4489,  4624,  4761,  4900,  5041,  5184,\n",
       "        5329,  5476,  5625,  5776,  5929,  6084,  6241,  6400,  6561,\n",
       "        6724,  6889,  7056,  7225,  7396,  7569,  7744,  7921,  8100,\n",
       "        8281,  8464,  8649,  8836,  9025,  9216,  9409,  9604,  9801,\n",
       "       10000])"
      ]
     },
     "execution_count": 399,
     "metadata": {},
     "output_type": "execute_result"
    }
   ],
   "source": [
    "first_100_numbers ** 2"
   ]
  },
  {
   "cell_type": "code",
   "execution_count": 401,
   "id": "98b27369",
   "metadata": {},
   "outputs": [
    {
     "data": {
      "text/plain": [
       "25164150"
      ]
     },
     "execution_count": 401,
     "metadata": {},
     "output_type": "execute_result"
    }
   ],
   "source": [
    "first_100_numbers.sum() ** 2 - (first_100_numbers ** 2).sum()"
   ]
  },
  {
   "cell_type": "markdown",
   "id": "75d1cc46",
   "metadata": {},
   "source": [
    "### Answer: \n",
    "25.164.150"
   ]
  },
  {
   "cell_type": "markdown",
   "id": "f9b5805f",
   "metadata": {},
   "source": [
    "# Problem 7: 10001st prime\n",
    "\n",
    "By listing the first six prime numbers: 2, 3, 5, 7, 11, and 13, we can see that the 6th prime is 13.\n",
    "\n",
    "What is the 10 001st prime number?"
   ]
  },
  {
   "cell_type": "code",
   "execution_count": 404,
   "id": "9afefdb6",
   "metadata": {},
   "outputs": [
    {
     "data": {
      "text/plain": [
       "80515"
      ]
     },
     "execution_count": 404,
     "metadata": {},
     "output_type": "execute_result"
    }
   ],
   "source": [
    "len(prime_search(1_000_000))"
   ]
  },
  {
   "cell_type": "code",
   "execution_count": 406,
   "id": "1e24388c",
   "metadata": {},
   "outputs": [
    {
     "data": {
      "text/plain": [
       "13.0"
      ]
     },
     "execution_count": 406,
     "metadata": {},
     "output_type": "execute_result"
    }
   ],
   "source": [
    "prime_search(1_000_000)[5]"
   ]
  },
  {
   "cell_type": "code",
   "execution_count": 407,
   "id": "58d35af0",
   "metadata": {},
   "outputs": [
    {
     "data": {
      "text/plain": [
       "104743.0"
      ]
     },
     "execution_count": 407,
     "metadata": {},
     "output_type": "execute_result"
    }
   ],
   "source": [
    "prime_search(1_000_000)[10_000]"
   ]
  },
  {
   "cell_type": "markdown",
   "id": "a72b7ce0",
   "metadata": {},
   "source": [
    "# Answer: \n",
    "\n",
    "104.743"
   ]
  },
  {
   "cell_type": "markdown",
   "id": "8b84a141",
   "metadata": {},
   "source": [
    "# Problem 8: Largest product in a series\n",
    "\n",
    "The four adjacent digits in the 1000-digit number that have the greatest product are 9 × 9 × 8 × 9 = 5832.\n",
    "\n",
    "73167176531330624919225119674426574742355349194934  \n",
    "96983520312774506326239578318016984801869478851843  \n",
    "85861560789112949495459501737958331952853208805511  \n",
    "12540698747158523863050715693290963295227443043557  \n",
    "66896648950445244523161731856403098711121722383113  \n",
    "62229893423380308135336276614282806444486645238749  \n",
    "30358907296290491560440772390713810515859307960866  \n",
    "70172427121883998797908792274921901699720888093776  \n",
    "65727333001053367881220235421809751254540594752243  \n",
    "52584907711670556013604839586446706324415722155397  \n",
    "53697817977846174064955149290862569321978468622482  \n",
    "83972241375657056057490261407972968652414535100474  \n",
    "82166370484403199890008895243450658541227588666881  \n",
    "16427171479924442928230863465674813919123162824586  \n",
    "17866458359124566529476545682848912883142607690042  \n",
    "24219022671055626321111109370544217506941658960408  \n",
    "07198403850962455444362981230987879927244284909188  \n",
    "84580156166097919133875499200524063689912560717606  \n",
    "05886116467109405077541002256983155200055935729725  \n",
    "71636269561882670428252483600823257530420752963450  \n",
    "\n",
    "Find the thirteen adjacent digits in the 1000-digit number that have the greatest product. What is the value of this product?"
   ]
  },
  {
   "cell_type": "code",
   "execution_count": 408,
   "id": "4a0d8748",
   "metadata": {},
   "outputs": [],
   "source": [
    "long_number_str = \"73167176531330624919225119674426574742355349194934\\\n",
    "96983520312774506326239578318016984801869478851843\\\n",
    "85861560789112949495459501737958331952853208805511\\\n",
    "12540698747158523863050715693290963295227443043557\\\n",
    "66896648950445244523161731856403098711121722383113\\\n",
    "62229893423380308135336276614282806444486645238749\\\n",
    "30358907296290491560440772390713810515859307960866\\\n",
    "70172427121883998797908792274921901699720888093776\\\n",
    "65727333001053367881220235421809751254540594752243\\\n",
    "52584907711670556013604839586446706324415722155397\\\n",
    "53697817977846174064955149290862569321978468622482\\\n",
    "83972241375657056057490261407972968652414535100474\\\n",
    "82166370484403199890008895243450658541227588666881\\\n",
    "16427171479924442928230863465674813919123162824586\\\n",
    "17866458359124566529476545682848912883142607690042\\\n",
    "24219022671055626321111109370544217506941658960408\\\n",
    "07198403850962455444362981230987879927244284909188\\\n",
    "84580156166097919133875499200524063689912560717606\\\n",
    "05886116467109405077541002256983155200055935729725\\\n",
    "71636269561882670428252483600823257530420752963450\""
   ]
  },
  {
   "cell_type": "code",
   "execution_count": 459,
   "id": "96055521",
   "metadata": {
    "scrolled": true
   },
   "outputs": [
    {
     "data": {
      "text/plain": [
       "array([7, 3, 1, 6, 7, 1, 7, 6, 5, 3, 1, 3, 3, 0, 6, 2, 4, 9, 1, 9, 2, 2,\n",
       "       5, 1, 1, 9, 6, 7, 4, 4, 2, 6, 5, 7, 4, 7, 4, 2, 3, 5, 5, 3, 4, 9,\n",
       "       1, 9, 4, 9, 3, 4, 9, 6, 9, 8, 3, 5, 2, 0, 3, 1, 2, 7, 7, 4, 5, 0,\n",
       "       6, 3, 2, 6, 2, 3, 9, 5, 7, 8, 3, 1, 8, 0, 1, 6, 9, 8, 4, 8, 0, 1,\n",
       "       8, 6, 9, 4, 7, 8, 8, 5, 1, 8, 4, 3, 8, 5, 8, 6, 1, 5, 6, 0, 7, 8,\n",
       "       9, 1, 1, 2, 9, 4, 9, 4, 9, 5, 4, 5, 9, 5, 0, 1, 7, 3, 7, 9, 5, 8,\n",
       "       3, 3, 1, 9, 5, 2, 8, 5, 3, 2, 0, 8, 8, 0, 5, 5, 1, 1, 1, 2, 5, 4,\n",
       "       0, 6, 9, 8, 7, 4, 7, 1, 5, 8, 5, 2, 3, 8, 6, 3, 0, 5, 0, 7, 1, 5,\n",
       "       6, 9, 3, 2, 9, 0, 9, 6, 3, 2, 9, 5, 2, 2, 7, 4, 4, 3, 0, 4, 3, 5,\n",
       "       5, 7, 6, 6, 8, 9, 6, 6, 4, 8, 9, 5, 0, 4, 4, 5, 2, 4, 4, 5, 2, 3,\n",
       "       1, 6, 1, 7, 3, 1, 8, 5, 6, 4, 0, 3, 0, 9, 8, 7, 1, 1, 1, 2, 1, 7,\n",
       "       2, 2, 3, 8, 3, 1, 1, 3, 6, 2, 2, 2, 9, 8, 9, 3, 4, 2, 3, 3, 8, 0,\n",
       "       3, 0, 8, 1, 3, 5, 3, 3, 6, 2, 7, 6, 6, 1, 4, 2, 8, 2, 8, 0, 6, 4,\n",
       "       4, 4, 4, 8, 6, 6, 4, 5, 2, 3, 8, 7, 4, 9, 3, 0, 3, 5, 8, 9, 0, 7,\n",
       "       2, 9, 6, 2, 9, 0, 4, 9, 1, 5, 6, 0, 4, 4, 0, 7, 7, 2, 3, 9, 0, 7,\n",
       "       1, 3, 8, 1, 0, 5, 1, 5, 8, 5, 9, 3, 0, 7, 9, 6, 0, 8, 6, 6, 7, 0,\n",
       "       1, 7, 2, 4, 2, 7, 1, 2, 1, 8, 8, 3, 9, 9, 8, 7, 9, 7, 9, 0, 8, 7,\n",
       "       9, 2, 2, 7, 4, 9, 2, 1, 9, 0, 1, 6, 9, 9, 7, 2, 0, 8, 8, 8, 0, 9,\n",
       "       3, 7, 7, 6, 6, 5, 7, 2, 7, 3, 3, 3, 0, 0, 1, 0, 5, 3, 3, 6, 7, 8,\n",
       "       8, 1, 2, 2, 0, 2, 3, 5, 4, 2, 1, 8, 0, 9, 7, 5, 1, 2, 5, 4, 5, 4,\n",
       "       0, 5, 9, 4, 7, 5, 2, 2, 4, 3, 5, 2, 5, 8, 4, 9, 0, 7, 7, 1, 1, 6,\n",
       "       7, 0, 5, 5, 6, 0, 1, 3, 6, 0, 4, 8, 3, 9, 5, 8, 6, 4, 4, 6, 7, 0,\n",
       "       6, 3, 2, 4, 4, 1, 5, 7, 2, 2, 1, 5, 5, 3, 9, 7, 5, 3, 6, 9, 7, 8,\n",
       "       1, 7, 9, 7, 7, 8, 4, 6, 1, 7, 4, 0, 6, 4, 9, 5, 5, 1, 4, 9, 2, 9,\n",
       "       0, 8, 6, 2, 5, 6, 9, 3, 2, 1, 9, 7, 8, 4, 6, 8, 6, 2, 2, 4, 8, 2,\n",
       "       8, 3, 9, 7, 2, 2, 4, 1, 3, 7, 5, 6, 5, 7, 0, 5, 6, 0, 5, 7, 4, 9,\n",
       "       0, 2, 6, 1, 4, 0, 7, 9, 7, 2, 9, 6, 8, 6, 5, 2, 4, 1, 4, 5, 3, 5,\n",
       "       1, 0, 0, 4, 7, 4, 8, 2, 1, 6, 6, 3, 7, 0, 4, 8, 4, 4, 0, 3, 1, 9,\n",
       "       9, 8, 9, 0, 0, 0, 8, 8, 9, 5, 2, 4, 3, 4, 5, 0, 6, 5, 8, 5, 4, 1,\n",
       "       2, 2, 7, 5, 8, 8, 6, 6, 6, 8, 8, 1, 1, 6, 4, 2, 7, 1, 7, 1, 4, 7,\n",
       "       9, 9, 2, 4, 4, 4, 2, 9, 2, 8, 2, 3, 0, 8, 6, 3, 4, 6, 5, 6, 7, 4,\n",
       "       8, 1, 3, 9, 1, 9, 1, 2, 3, 1, 6, 2, 8, 2, 4, 5, 8, 6, 1, 7, 8, 6,\n",
       "       6, 4, 5, 8, 3, 5, 9, 1, 2, 4, 5, 6, 6, 5, 2, 9, 4, 7, 6, 5, 4, 5,\n",
       "       6, 8, 2, 8, 4, 8, 9, 1, 2, 8, 8, 3, 1, 4, 2, 6, 0, 7, 6, 9, 0, 0,\n",
       "       4, 2, 2, 4, 2, 1, 9, 0, 2, 2, 6, 7, 1, 0, 5, 5, 6, 2, 6, 3, 2, 1,\n",
       "       1, 1, 1, 1, 0, 9, 3, 7, 0, 5, 4, 4, 2, 1, 7, 5, 0, 6, 9, 4, 1, 6,\n",
       "       5, 8, 9, 6, 0, 4, 0, 8, 0, 7, 1, 9, 8, 4, 0, 3, 8, 5, 0, 9, 6, 2,\n",
       "       4, 5, 5, 4, 4, 4, 3, 6, 2, 9, 8, 1, 2, 3, 0, 9, 8, 7, 8, 7, 9, 9,\n",
       "       2, 7, 2, 4, 4, 2, 8, 4, 9, 0, 9, 1, 8, 8, 8, 4, 5, 8, 0, 1, 5, 6,\n",
       "       1, 6, 6, 0, 9, 7, 9, 1, 9, 1, 3, 3, 8, 7, 5, 4, 9, 9, 2, 0, 0, 5,\n",
       "       2, 4, 0, 6, 3, 6, 8, 9, 9, 1, 2, 5, 6, 0, 7, 1, 7, 6, 0, 6, 0, 5,\n",
       "       8, 8, 6, 1, 1, 6, 4, 6, 7, 1, 0, 9, 4, 0, 5, 0, 7, 7, 5, 4, 1, 0,\n",
       "       0, 2, 2, 5, 6, 9, 8, 3, 1, 5, 5, 2, 0, 0, 0, 5, 5, 9, 3, 5, 7, 2,\n",
       "       9, 7, 2, 5, 7, 1, 6, 3, 6, 2, 6, 9, 5, 6, 1, 8, 8, 2, 6, 7, 0, 4,\n",
       "       2, 8, 2, 5, 2, 4, 8, 3, 6, 0, 0, 8, 2, 3, 2, 5, 7, 5, 3, 0, 4, 2,\n",
       "       0, 7, 5, 2, 9, 6, 3, 4, 5, 0])"
      ]
     },
     "execution_count": 459,
     "metadata": {},
     "output_type": "execute_result"
    }
   ],
   "source": [
    "digits = np.array([int(digit) for digit in long_number_str])\n",
    "digits"
   ]
  },
  {
   "cell_type": "code",
   "execution_count": 454,
   "id": "7ac04cc0",
   "metadata": {},
   "outputs": [],
   "source": [
    "from numpy.lib.stride_tricks import sliding_window_view"
   ]
  },
  {
   "cell_type": "code",
   "execution_count": 461,
   "id": "95b1b892",
   "metadata": {},
   "outputs": [
    {
     "data": {
      "text/plain": [
       "5832"
      ]
     },
     "execution_count": 461,
     "metadata": {},
     "output_type": "execute_result"
    }
   ],
   "source": [
    "sliding_window_view(digits, window_shape = 4).prod(axis=1).max()"
   ]
  },
  {
   "cell_type": "code",
   "execution_count": 462,
   "id": "af57437f",
   "metadata": {},
   "outputs": [
    {
     "data": {
      "text/plain": [
       "23514624000"
      ]
     },
     "execution_count": 462,
     "metadata": {},
     "output_type": "execute_result"
    }
   ],
   "source": [
    "sliding_window_view(digits, window_shape = 13).prod(axis=1).max()"
   ]
  },
  {
   "cell_type": "markdown",
   "id": "b6d22552",
   "metadata": {},
   "source": [
    "### Answer: \n",
    "23514624000"
   ]
  },
  {
   "cell_type": "markdown",
   "id": "37d0747c",
   "metadata": {},
   "source": [
    "# Problem 9: Special Pythagorean triplet\n",
    "\n",
    "A Pythagorean triplet is a set of three natural numbers, $a < b < c$, for which,\n",
    "\n",
    "$$a^2 + b^2 = c^2$$\n",
    "For example, $3^2 + 4^2 = 9 + 16 = 25 = 5^2$.\n",
    "\n",
    "There exists exactly one Pythagorean triplet for which $a + b + c = 1000$.  \n",
    "Find the product $abc$."
   ]
  },
  {
   "cell_type": "code",
   "execution_count": 472,
   "id": "c3110961",
   "metadata": {},
   "outputs": [],
   "source": [
    "from numba import prange"
   ]
  },
  {
   "cell_type": "code",
   "execution_count": 477,
   "id": "9bb1c5d2",
   "metadata": {},
   "outputs": [],
   "source": [
    "@njit\n",
    "def find_special_pythagorean(n):\n",
    "    for a in range(1, n):\n",
    "        for b in range(a+1, n-a):\n",
    "            c = (a ** 2 + b ** 2) ** 0.5\n",
    "            if a + b + c ==  n:\n",
    "                return a * b * c"
   ]
  },
  {
   "cell_type": "code",
   "execution_count": 478,
   "id": "8db4e923",
   "metadata": {},
   "outputs": [
    {
     "data": {
      "text/plain": [
       "31875000.0"
      ]
     },
     "execution_count": 478,
     "metadata": {},
     "output_type": "execute_result"
    }
   ],
   "source": [
    "find_special_pythagorean(1000)"
   ]
  },
  {
   "cell_type": "markdown",
   "id": "a4b9c426",
   "metadata": {},
   "source": [
    "### Answer:\n",
    "31.875.000"
   ]
  },
  {
   "cell_type": "markdown",
   "id": "be137a2a",
   "metadata": {},
   "source": [
    "# Problem 10: Summation of primes\n",
    "\n",
    "The sum of the primes below 10 is 2 + 3 + 5 + 7 = 17.\n",
    "\n",
    "Find the sum of all the primes below two million."
   ]
  },
  {
   "cell_type": "code",
   "execution_count": 486,
   "id": "4d21c910",
   "metadata": {},
   "outputs": [
    {
     "data": {
      "text/plain": [
       "array([2., 3., 5., 7.])"
      ]
     },
     "execution_count": 486,
     "metadata": {},
     "output_type": "execute_result"
    }
   ],
   "source": [
    "prime_search(10)"
   ]
  },
  {
   "cell_type": "code",
   "execution_count": 485,
   "id": "f0026d96",
   "metadata": {},
   "outputs": [
    {
     "data": {
      "text/plain": [
       "17.0"
      ]
     },
     "execution_count": 485,
     "metadata": {},
     "output_type": "execute_result"
    }
   ],
   "source": [
    "prime_search(10).sum()"
   ]
  },
  {
   "cell_type": "code",
   "execution_count": 484,
   "id": "11421c82",
   "metadata": {},
   "outputs": [
    {
     "data": {
      "text/plain": [
       "142913828922.0"
      ]
     },
     "execution_count": 484,
     "metadata": {},
     "output_type": "execute_result"
    }
   ],
   "source": [
    "prime_search(2_000_000).sum()"
   ]
  },
  {
   "cell_type": "markdown",
   "id": "80bfa267",
   "metadata": {},
   "source": [
    "### Answer:\n",
    "142.913.828.922"
   ]
  }
 ],
 "metadata": {
  "kernelspec": {
   "display_name": "Python 3.11.0 64-bit",
   "language": "python",
   "name": "python3"
  },
  "language_info": {
   "codemirror_mode": {
    "name": "ipython",
    "version": 3
   },
   "file_extension": ".py",
   "mimetype": "text/x-python",
   "name": "python",
   "nbconvert_exporter": "python",
   "pygments_lexer": "ipython3",
   "version": "3.11.0"
  },
  "vscode": {
   "interpreter": {
    "hash": "ef444dfdc0e63df5bd04a7609eb5b26a6822b46c2912f06cd32f28d87a91c7c4"
   }
  }
 },
 "nbformat": 4,
 "nbformat_minor": 5
}
